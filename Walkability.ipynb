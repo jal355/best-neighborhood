{
 "cells": [
  {
   "cell_type": "code",
   "execution_count": 3,
   "metadata": {},
   "outputs": [],
   "source": [
    "import pandas as pd\n",
    "import numpy as np\n",
    "%matplotlib inline\n",
    "import matplotlib.pyplot as plt"
   ]
  },
  {
   "cell_type": "code",
   "execution_count": 36,
   "metadata": {},
   "outputs": [],
   "source": [
    "df = pd.read_csv(\"SidewalkStepsBlockgroup.csv\")"
   ]
  },
  {
   "cell_type": "code",
   "execution_count": 37,
   "metadata": {},
   "outputs": [
    {
     "data": {
      "text/html": [
       "<div>\n",
       "<style scoped>\n",
       "    .dataframe tbody tr th:only-of-type {\n",
       "        vertical-align: middle;\n",
       "    }\n",
       "\n",
       "    .dataframe tbody tr th {\n",
       "        vertical-align: top;\n",
       "    }\n",
       "\n",
       "    .dataframe thead th {\n",
       "        text-align: right;\n",
       "    }\n",
       "</style>\n",
       "<table border=\"1\" class=\"dataframe\">\n",
       "  <thead>\n",
       "    <tr style=\"text-align: right;\">\n",
       "      <th></th>\n",
       "      <th>FID</th>\n",
       "      <th>FID_1</th>\n",
       "      <th>OBJECTID</th>\n",
       "      <th>FID_1_1</th>\n",
       "      <th>Source</th>\n",
       "      <th>Material</th>\n",
       "      <th>Width</th>\n",
       "      <th>Unnamed: 7</th>\n",
       "      <th>LengthMile</th>\n",
       "      <th>Type</th>\n",
       "      <th>...</th>\n",
       "      <th>NAMELSAD</th>\n",
       "      <th>ALAND</th>\n",
       "      <th>AWATER</th>\n",
       "      <th>INTPTLAT</th>\n",
       "      <th>INTPTLON</th>\n",
       "      <th>OBJECTID_1</th>\n",
       "      <th>SHAPE_Le_1</th>\n",
       "      <th>SHAPE_Area</th>\n",
       "      <th>FIPS_Num</th>\n",
       "      <th>Distance</th>\n",
       "    </tr>\n",
       "  </thead>\n",
       "  <tbody>\n",
       "    <tr>\n",
       "      <th>0</th>\n",
       "      <td>0</td>\n",
       "      <td>23411</td>\n",
       "      <td>23441</td>\n",
       "      <td>23441</td>\n",
       "      <td></td>\n",
       "      <td></td>\n",
       "      <td>0</td>\n",
       "      <td>NaN</td>\n",
       "      <td>0.072439</td>\n",
       "      <td>1</td>\n",
       "      <td>...</td>\n",
       "      <td>Block Group 1</td>\n",
       "      <td>389986</td>\n",
       "      <td>0</td>\n",
       "      <td>40.462122</td>\n",
       "      <td>-79.960947</td>\n",
       "      <td>34</td>\n",
       "      <td>11188.102692</td>\n",
       "      <td>4.197425e+06</td>\n",
       "      <td>4.200306e+11</td>\n",
       "      <td>0</td>\n",
       "    </tr>\n",
       "    <tr>\n",
       "      <th>1</th>\n",
       "      <td>1</td>\n",
       "      <td>23412</td>\n",
       "      <td>23442</td>\n",
       "      <td>23442</td>\n",
       "      <td></td>\n",
       "      <td></td>\n",
       "      <td>0</td>\n",
       "      <td>NaN</td>\n",
       "      <td>0.062109</td>\n",
       "      <td>1</td>\n",
       "      <td>...</td>\n",
       "      <td>Block Group 1</td>\n",
       "      <td>389986</td>\n",
       "      <td>0</td>\n",
       "      <td>40.462122</td>\n",
       "      <td>-79.960947</td>\n",
       "      <td>34</td>\n",
       "      <td>11188.102692</td>\n",
       "      <td>4.197425e+06</td>\n",
       "      <td>4.200306e+11</td>\n",
       "      <td>0</td>\n",
       "    </tr>\n",
       "    <tr>\n",
       "      <th>2</th>\n",
       "      <td>2</td>\n",
       "      <td>23413</td>\n",
       "      <td>23443</td>\n",
       "      <td>23443</td>\n",
       "      <td></td>\n",
       "      <td></td>\n",
       "      <td>0</td>\n",
       "      <td>NaN</td>\n",
       "      <td>0.015296</td>\n",
       "      <td>1</td>\n",
       "      <td>...</td>\n",
       "      <td>Block Group 1</td>\n",
       "      <td>389986</td>\n",
       "      <td>0</td>\n",
       "      <td>40.462122</td>\n",
       "      <td>-79.960947</td>\n",
       "      <td>34</td>\n",
       "      <td>11188.102692</td>\n",
       "      <td>4.197425e+06</td>\n",
       "      <td>4.200306e+11</td>\n",
       "      <td>0</td>\n",
       "    </tr>\n",
       "    <tr>\n",
       "      <th>3</th>\n",
       "      <td>3</td>\n",
       "      <td>23414</td>\n",
       "      <td>23444</td>\n",
       "      <td>23444</td>\n",
       "      <td></td>\n",
       "      <td></td>\n",
       "      <td>0</td>\n",
       "      <td>NaN</td>\n",
       "      <td>0.026267</td>\n",
       "      <td>1</td>\n",
       "      <td>...</td>\n",
       "      <td>Block Group 1</td>\n",
       "      <td>389986</td>\n",
       "      <td>0</td>\n",
       "      <td>40.462122</td>\n",
       "      <td>-79.960947</td>\n",
       "      <td>34</td>\n",
       "      <td>11188.102692</td>\n",
       "      <td>4.197425e+06</td>\n",
       "      <td>4.200306e+11</td>\n",
       "      <td>0</td>\n",
       "    </tr>\n",
       "    <tr>\n",
       "      <th>4</th>\n",
       "      <td>4</td>\n",
       "      <td>23415</td>\n",
       "      <td>23445</td>\n",
       "      <td>23445</td>\n",
       "      <td></td>\n",
       "      <td></td>\n",
       "      <td>0</td>\n",
       "      <td>NaN</td>\n",
       "      <td>0.026619</td>\n",
       "      <td>1</td>\n",
       "      <td>...</td>\n",
       "      <td>Block Group 1</td>\n",
       "      <td>389986</td>\n",
       "      <td>0</td>\n",
       "      <td>40.462122</td>\n",
       "      <td>-79.960947</td>\n",
       "      <td>34</td>\n",
       "      <td>11188.102692</td>\n",
       "      <td>4.197425e+06</td>\n",
       "      <td>4.200306e+11</td>\n",
       "      <td>0</td>\n",
       "    </tr>\n",
       "  </tbody>\n",
       "</table>\n",
       "<p>5 rows × 33 columns</p>\n",
       "</div>"
      ],
      "text/plain": [
       "   FID  FID_1  OBJECTID  FID_1_1 Source Material  Width  Unnamed: 7  \\\n",
       "0    0  23411     23441    23441                      0         NaN   \n",
       "1    1  23412     23442    23442                      0         NaN   \n",
       "2    2  23413     23443    23443                      0         NaN   \n",
       "3    3  23414     23444    23444                      0         NaN   \n",
       "4    4  23415     23445    23445                      0         NaN   \n",
       "\n",
       "   LengthMile  Type  ...       NAMELSAD   ALAND AWATER   INTPTLAT   INTPTLON  \\\n",
       "0    0.072439     1  ...  Block Group 1  389986      0  40.462122 -79.960947   \n",
       "1    0.062109     1  ...  Block Group 1  389986      0  40.462122 -79.960947   \n",
       "2    0.015296     1  ...  Block Group 1  389986      0  40.462122 -79.960947   \n",
       "3    0.026267     1  ...  Block Group 1  389986      0  40.462122 -79.960947   \n",
       "4    0.026619     1  ...  Block Group 1  389986      0  40.462122 -79.960947   \n",
       "\n",
       "  OBJECTID_1    SHAPE_Le_1    SHAPE_Area      FIPS_Num  Distance  \n",
       "0         34  11188.102692  4.197425e+06  4.200306e+11         0  \n",
       "1         34  11188.102692  4.197425e+06  4.200306e+11         0  \n",
       "2         34  11188.102692  4.197425e+06  4.200306e+11         0  \n",
       "3         34  11188.102692  4.197425e+06  4.200306e+11         0  \n",
       "4         34  11188.102692  4.197425e+06  4.200306e+11         0  \n",
       "\n",
       "[5 rows x 33 columns]"
      ]
     },
     "execution_count": 37,
     "metadata": {},
     "output_type": "execute_result"
    }
   ],
   "source": [
    "sw.head()"
   ]
  },
  {
   "cell_type": "code",
   "execution_count": 38,
   "metadata": {},
   "outputs": [
    {
     "name": "stdout",
     "output_type": "stream",
     "text": [
      "['FID', 'FID_1', 'OBJECTID', 'FID_1_1', 'Source', 'Material', 'Width', 'Unnamed: 7', 'LengthMile', 'Type', 'Elevation', 'MPH', 'Municipali', 'County', 'Neighborho', 'Type_Name', 'RoadName', 'Subdiv_Nam', 'Unincorp_M', 'Shape__Len', 'Shape_Leng', 'FID_2', 'GEOID', 'NAMELSAD', 'ALAND', 'AWATER', 'INTPTLAT', 'INTPTLON', 'OBJECTID_1', 'SHAPE_Le_1', 'SHAPE_Area', 'FIPS_Num', 'Distance']\n"
     ]
    }
   ],
   "source": [
    "print(sw.columns.tolist())"
   ]
  },
  {
   "cell_type": "code",
   "execution_count": 39,
   "metadata": {},
   "outputs": [
    {
     "name": "stdout",
     "output_type": "stream",
     "text": [
      "['Allegheny' 'Butler' 'Armstrong' 'Westmoreland' 'Beaver' 'Lawrence'\n",
      " 'Fayette' 'Greene' 'Indiana' 'Washington' 'Crosswalk']\n"
     ]
    }
   ],
   "source": [
    "print(sw['County'].unique())"
   ]
  },
  {
   "cell_type": "code",
   "execution_count": 40,
   "metadata": {},
   "outputs": [
    {
     "name": "stdout",
     "output_type": "stream",
     "text": [
      "['Pittsburgh' 'Penn Hills' 'Wilkinsburg Borough' 'Swissvale Borough'\n",
      " 'Pine Township' 'Adams Township' 'Cranberry Township' 'Leet Township'\n",
      " 'Leetsdale Borough' 'Crescent Township' 'Moon Township'\n",
      " 'Whitaker Borough' 'Braddock Borough' 'Rankin Borough' 'Edgewood Borough'\n",
      " 'Churchill Borough' 'Dayton' 'Wayne Township' 'Mahoning Township'\n",
      " 'South Bethlehem' 'Madison Township' 'Hovey Township' 'Parker'\n",
      " \"Brady's Bend Township\" 'West Franklin Township' 'Worthington'\n",
      " 'East Franklin Township' 'Applewold' 'West Kittanning' 'Kittanning'\n",
      " 'Cowanshannock Township' 'Rural Valley' 'Atwood' 'Manor Township'\n",
      " 'Ford Cliff' 'Manorville' 'Ford City' 'North Buffalo Township'\n",
      " 'Cadogan Township' 'Gilpin Township' 'Allegheny Township'\n",
      " 'Parks Township' 'Vandergrift' 'North Apollo' 'Apollo'\n",
      " 'Kiskiminetas Township' 'Elderton' 'Leechburg' 'Freeport Borough'\n",
      " 'Darlington' 'Chippewa Township' 'Patterson Township' 'Patterson Heights'\n",
      " 'Beaver Falls' 'Eastvale' 'New Brighton' 'Pulaski Township'\n",
      " 'Freedom Borough' 'New Sewickley Township' 'Rochester Township'\n",
      " 'Rochester' 'East Rochester' 'Beaver Borough' 'Brighton Township'\n",
      " 'Vanport Township' 'Industry' 'Glasgow' 'Midland' 'Hookstown'\n",
      " 'Center Township' 'Monaca' 'Conway Borough' 'Economy Borough'\n",
      " 'Baden Borough' 'Harmony Township' 'Ambridge Borough' 'Aliquippa'\n",
      " 'Hopewell Township' 'South Heights Borough' 'Frankfort Springs'\n",
      " 'White Township' 'West Mayfield' 'Homewood' 'Big Beaver' 'Koppel'\n",
      " 'New Galilee' 'Bridgewater Borough' 'Fallston' 'Ellwood City'\n",
      " 'North Sewickley Township' 'Butler' 'Butler Township' 'Parker Township'\n",
      " 'Bruin' 'Petrolia' 'Fairview' 'Fairview Township' 'Karns City'\n",
      " 'Eau Claire' 'Washington Township' 'Slippery Rock Township' 'Harrisville'\n",
      " 'West Liberty' 'Slippery Rock' 'West Sunbury' 'Prospect' 'Portersville'\n",
      " 'Connoquenessing Township' 'Connoquenessing' 'East Butler' 'Chicora'\n",
      " 'Winfield Township' 'Jefferson Township' 'Saxonburg' 'Forward Township'\n",
      " 'Evans City' 'Harmony' 'Jackson Township' 'Zelienople' 'Seven Fields'\n",
      " 'Callery' 'Mars' 'Buffalo Township' 'Middlesex Township' 'Fayette City'\n",
      " 'Perry Township' 'Perryopolis' 'Everson' 'Upper Tyrone Township'\n",
      " 'Connellsville Township' 'Connellsville' 'South Connellsville'\n",
      " 'Dunbar Township' 'Cumberland Township' 'Carmichaels'\n",
      " 'Monongahela Township' 'Rices Landing' 'Clarksville' 'Jefferson'\n",
      " 'Morgan Township' 'Gray Township' 'Richhill Township' 'Freeport Township'\n",
      " 'Franklin Township' 'Waynesburg' 'Greensboro' 'Dunkard Township'\n",
      " 'North Mahoning' 'Canoe Township' 'Smicksburg' 'Plumville'\n",
      " 'East Mahoning' 'Marion Center' 'Montgomery Township' 'Cherry Tree'\n",
      " 'Grant Township' 'Ernest' 'Creekside' 'Shelocta' 'Indiana'\n",
      " 'Cherryhill Township' 'Clymer Borough' 'West Wheatfield Township'\n",
      " 'Fairfield Township' 'Homer City' 'Young Township' 'Conemaugh Township'\n",
      " 'Saltsburg' 'Burrell Township' 'Blarisville' 'Armagh' 'New Castle'\n",
      " 'Hickory Township' 'Volant' 'New Wilmington' 'Union Township'\n",
      " 'Neshannock Township' 'South New Castle' 'Taylor Township' 'Bessemer'\n",
      " 'North Beaver Township' 'Enon Valley' 'Wampum' 'Ellport' 'Hyde Park'\n",
      " 'East Vandergrift' 'Bell Township' 'Avonmore' 'Loyalhanna Township'\n",
      " 'Scottdale' 'New Alexandria' 'Derry Township' 'Bolivar' 'Seward'\n",
      " 'New Florence' 'Homestead Borough' 'Dormont Borough' 'Green Tree Borough'\n",
      " 'Reserve Township' 'Ross Township' 'Brentwood Borough'\n",
      " 'West Mifflin Borough' 'Munhall Borough' 'Baldwin Township'\n",
      " \"O'Hara Township\" 'McKees Rocks Borough' 'Ingram Borough'\n",
      " 'Crafton Borough' 'Scott Township' 'Carnegie Borough' 'Whitehall Borough'\n",
      " 'Baldwin Borough' 'Mount Oliver Borough' 'McDonald Borough'\n",
      " 'Aspinwall Borough' 'Belle Vernon' 'North Belle Vernon' 'Brownsville'\n",
      " 'Luzerne Township' 'Redstone Township' 'Menallen Township'\n",
      " 'North Union Township' 'Uniontown' 'South Union Township' 'Dunbar'\n",
      " 'Ohiopyle' 'Markleysburg' 'Fairchance' 'German Township' 'Masontown'\n",
      " 'Springhill Township' 'Point Marion Borough' 'Smithfield' 'Washington'\n",
      " 'Hanover Township' 'Burgettstown' 'Smith Township' 'Midway'\n",
      " 'Independence Township' 'Cross Creek Township' 'Donegal Township'\n",
      " 'Claysville' 'Cecil Township' 'Canonsburg' 'Chartiers Township' 'Houston'\n",
      " 'North Strabane Township' 'Peters Township' 'Canton Township'\n",
      " 'North Franklin Township' 'East Washington' 'South Strabane Township'\n",
      " 'Marianna' 'Finleyville' 'New Eagle' 'Monongahela' 'Carroll Township'\n",
      " 'Donora' 'North Charleroi' 'Charleroi' 'Speers' 'Stockdale' 'Allenport'\n",
      " 'Dunlevy' 'Roscoe' 'Elco' 'Coal Center' 'California'\n",
      " 'East Bethlehem Township' 'Centerville' 'West Brownsville' 'Monessen'\n",
      " 'Rostraver Township' 'Millvale Borough' 'Harrison Township'\n",
      " 'Brackenridge Borough' 'Tarentum Borough' 'Lower Burrell'\n",
      " 'East Deer Township' 'Frazier Township' 'Franklin Park Borough'\n",
      " 'Bradford Woods Borough' 'Marshall Township' 'Ohio Township'\n",
      " 'McCandless Township' 'Hampton Township' 'Springdale Township'\n",
      " 'Springdale Borough' 'Cheswick Borough' 'Harmar Township'\n",
      " 'Blawnox Borough' 'Sharpsburg Borough' 'Etna Borough' 'Shaler Township'\n",
      " 'Bellevue Borough' 'West View Borough' 'Avalon Borough'\n",
      " 'Ben Avon Borough' 'Emsworth Borough' 'Kilbuck Township'\n",
      " 'Findlay Township' 'North Fayette Township' 'Oakdale Borough'\n",
      " 'South Fayette Township' 'Bridgeville Borough' 'Collier Township'\n",
      " 'Robinson Township' 'Pennsbury Village Borough' 'Mt Lebanon'\n",
      " 'Mount Lebanon' 'Heidelberg Borough' 'Castle Shannon Borough'\n",
      " 'Bethel Park' 'Upper St. Clair Township' 'South Park Township'\n",
      " 'Pleasant Hills Borough' 'Jefferson Hills Borough' 'Clairton'\n",
      " 'West Elizabeth Borough' 'Elizabeth Borough' 'Elizabeth Township'\n",
      " 'Oakmont Borough' 'Sewickley Hills Borough' 'Aleppo Township'\n",
      " 'Glenfield Borough' 'Ben Avon Heights Borough' 'Rosslyn Farms Borough'\n",
      " 'Bullskin Township' 'Arnold' 'New Kensington' 'West Leechburg'\n",
      " 'Upper Burrell Township' 'Salem Township' 'Murrysville' 'Delmont'\n",
      " 'Export' 'Jeanette' 'Hempfield Township' 'Manor'\n",
      " 'North Huntingdon Township' 'Irwin' 'North Irwin' 'Adamsburg'\n",
      " 'Greensburg' 'Southwest Greensburg' 'South Greensburg' 'Youngwood'\n",
      " 'New Stanton' 'Madison' 'Hunker' 'Sewickley Township' 'Sutersville'\n",
      " 'Smithton' 'West Newton' 'South Huntingdon Township'\n",
      " 'East Huntingdon Township' 'Mount Pleasant Borough'\n",
      " 'Mount Pleasant Township' 'Unity Township' 'Youngstown' 'Latrobe' 'Derry'\n",
      " 'Ligonier' 'Ligonier Township' 'Stowe Township' 'West Deer Township'\n",
      " 'Richland Township' 'Indiana Township' 'Fox Chapel Borough'\n",
      " 'Sewickley Borough' 'Edgeworth Borough' 'Coraopolis Borough'\n",
      " 'Kennedy Township' 'Neville Township' 'West Homestead Borough' 'Duquesne'\n",
      " 'McKeesport' 'Dravosburg Borough' 'Versailles Borough' 'Liberty Borough'\n",
      " 'Glassport Borough' 'Port Vue Borough' 'North Versailles Township'\n",
      " 'White Oak Borough' 'East Pittsburgh Borough' 'Turtle Creek'\n",
      " 'East McKeesport Borough' 'Wilmerding Borough'\n",
      " 'Municipality of Monroeville' 'Wall Borough' 'Wilkins Township'\n",
      " 'North Braddock Borough' 'Braddock Hills Borough' 'Forest Hills Borough'\n",
      " 'Chalfant Borough' 'Pitcairn' 'Trafford Borough' 'Verona Borough'\n",
      " 'Plum Borough' 'Glen Osborne Borough' 'South Versailles Township'\n",
      " 'Kittanning Township' 'Valencia' 'Fawn Township' 'Bell Acres Borough'\n",
      " 'Newell' 'Blaine Township' 'Somerset Township' 'Cokeburg'\n",
      " 'North Bethlehem Township' 'Beallsville' 'Deemston' 'Bentleyville'\n",
      " 'Ellsworth' 'Penn Township' 'Haysville Borough' 'Thornburg Borough'\n",
      " 'South Buffalo Township' 'Oklahoma' 'Plumcreek Township'\n",
      " 'Ohioville Borough' 'Potter Township' 'Concord Township' 'Clay Township'\n",
      " 'Clinton Township' 'Shenango Township' 'S.N.P.J.' 'Sugarcreek Township'\n",
      " 'Darlington Township' 'Greene Township' 'Cherry Township'\n",
      " 'Summit Township' 'Saltlick Township' 'Springfield Township'\n",
      " 'Wharton Township' 'Henry Clay Township' 'Georges Township'\n",
      " 'Green Township' 'Rayne Township' 'East Wheatfield Township'\n",
      " 'South Franklin Township' 'Amwell Township' 'Nottingham Township'\n",
      " 'Fallowfield Township' 'St Clair Township' 'Robinson' 'Crafton'\n",
      " 'Castle Shannon' 'Vanderbilt' 'Dawson' 'Lower Tyrone'\n",
      " 'Wilmington Township' 'West Middletown' 'Morris Township' 'Penn'\n",
      " 'Lancaster Township' 'West Bethlehem Township' 'West Pike Run Township'\n",
      " 'Gilmore Township' 'Glen Campbell' 'Brush Valley Township'\n",
      " 'Blacklick Township' 'Nicholson Township' 'Armstrong Township']\n"
     ]
    }
   ],
   "source": [
    "print(sw['Municipali'].unique())"
   ]
  },
  {
   "cell_type": "code",
   "execution_count": 45,
   "metadata": {},
   "outputs": [],
   "source": [
    "df = sw[sw['Municipali'] == 'Pittsburgh']"
   ]
  },
  {
   "cell_type": "code",
   "execution_count": 48,
   "metadata": {},
   "outputs": [
    {
     "name": "stdout",
     "output_type": "stream",
     "text": [
      "['Pittsburgh']\n"
     ]
    }
   ],
   "source": [
    "print(df['Municipali'].unique())"
   ]
  },
  {
   "cell_type": "code",
   "execution_count": 42,
   "metadata": {},
   "outputs": [
    {
     "name": "stdout",
     "output_type": "stream",
     "text": [
      "count    42742.000000\n",
      "mean         0.031924\n",
      "std          0.041558\n",
      "min          0.000071\n",
      "25%          0.004658\n",
      "50%          0.019611\n",
      "75%          0.043082\n",
      "max          0.751068\n",
      "Name: LengthMile, dtype: float64\n"
     ]
    }
   ],
   "source": [
    "print(df['LengthMile'].describe())"
   ]
  },
  {
   "cell_type": "code",
   "execution_count": 49,
   "metadata": {},
   "outputs": [
    {
     "name": "stdout",
     "output_type": "stream",
     "text": [
      "                   count      mean       std       min       25%       50%  \\\n",
      "Neighborho                                                                   \n",
      "Allegheny Center   556.0  0.020796  0.020062  0.000385  0.005143  0.015423   \n",
      "Allegheny West     187.0  0.028713  0.029730  0.000504  0.007465  0.019682   \n",
      "Allentown          393.0  0.033834  0.041900  0.000394  0.014146  0.022838   \n",
      "Arlington          176.0  0.039447  0.037793  0.000605  0.018568  0.025937   \n",
      "Arlington Heights   79.0  0.021246  0.047897  0.000373  0.004715  0.008756   \n",
      "...                  ...       ...       ...       ...       ...       ...   \n",
      "West End           129.0  0.030324  0.045716  0.000594  0.000954  0.018225   \n",
      "West Oakland       319.0  0.024181  0.034327  0.000290  0.001707  0.010139   \n",
      "Westwood           208.0  0.041112  0.061182  0.000612  0.010871  0.020186   \n",
      "Wilkinsburg          1.0  0.022960       NaN  0.022960  0.022960  0.022960   \n",
      "Windgap             95.0  0.048729  0.049106  0.001982  0.014562  0.032564   \n",
      "\n",
      "                        75%       max  \n",
      "Neighborho                             \n",
      "Allegheny Center   0.029606  0.110003  \n",
      "Allegheny West     0.039776  0.125584  \n",
      "Allentown          0.029549  0.378910  \n",
      "Arlington          0.050831  0.336333  \n",
      "Arlington Heights  0.020494  0.405631  \n",
      "...                     ...       ...  \n",
      "West End           0.042822  0.290367  \n",
      "West Oakland       0.032269  0.227464  \n",
      "Westwood           0.047643  0.627983  \n",
      "Wilkinsburg        0.022960  0.022960  \n",
      "Windgap            0.072356  0.297913  \n",
      "\n",
      "[96 rows x 8 columns]\n"
     ]
    }
   ],
   "source": [
    "print(df.groupby('Neighborho')['LengthMile'].describe())"
   ]
  },
  {
   "cell_type": "code",
   "execution_count": 50,
   "metadata": {},
   "outputs": [
    {
     "name": "stdout",
     "output_type": "stream",
     "text": [
      "           Neighborho  LengthMile\n",
      "0    Allegheny Center   11.562439\n",
      "1      Allegheny West    5.369388\n",
      "2           Allentown   13.296787\n",
      "3           Arlington    6.942624\n",
      "4   Arlington Heights    1.678418\n",
      "..                ...         ...\n",
      "91           West End    3.911820\n",
      "92       West Oakland    7.713750\n",
      "93           Westwood    8.551332\n",
      "94        Wilkinsburg    0.022960\n",
      "95            Windgap    4.629260\n",
      "\n",
      "[96 rows x 2 columns]\n"
     ]
    }
   ],
   "source": [
    "result = (df.groupby('Neighborho')['LengthMile'].sum().reset_index())\n",
    "\n",
    "print(result)"
   ]
  },
  {
   "cell_type": "code",
   "execution_count": 51,
   "metadata": {},
   "outputs": [
    {
     "data": {
      "image/png": "[encoded data removed]",
      "text/plain": [
       "<Figure size 720x432 with 1 Axes>"
      ]
     },
     "metadata": {
      "needs_background": "light"
     },
     "output_type": "display_data"
    }
   ],
   "source": [
    "plt.figure(figsize=(10, 6))\n",
    "result.dropna()\n",
    "plt.bar(result['Neighborho'], result['LengthMile'])\n",
    "plt.xlabel('Neighborhood')\n",
    "plt.ylabel('Total LengthMile')\n",
    "plt.title('Total LengthMile by Neighborhood')\n",
    "plt.xticks(rotation=45, ha='right')  # Rotate x-axis labels for better readability\n",
    "plt.tight_layout()\n",
    "plt.show()"
   ]
  },
  {
   "cell_type": "code",
   "execution_count": 58,
   "metadata": {},
   "outputs": [
    {
     "data": {
      "image/png": "[encoded data removed]",
      "text/plain": [
       "<Figure size 576x432 with 1 Axes>"
      ]
     },
     "metadata": {
      "needs_background": "light"
     },
     "output_type": "display_data"
    }
   ],
   "source": [
    "plt.figure(figsize=(8, 6))\n",
    "df.boxplot(column='LengthMile', vert=False, patch_artist=True, showfliers=False)\n",
    "plt.title('Box Plot of LengthMile')\n",
    "plt.xlabel('LengthMile')\n",
    "plt.show()"
   ]
  },
  {
   "cell_type": "code",
   "execution_count": 61,
   "metadata": {},
   "outputs": [
    {
     "name": "stdout",
     "output_type": "stream",
     "text": [
      "                 Neighborhood  SidewalkCount  TotalSidewalkLength\n",
      "20  Central Business District           1898            30.222520\n",
      "81        Squirrel Hill South           1533            53.880230\n",
      "76           South Side Flats           1481            37.827276\n",
      "72                  Shadyside           1304            42.669316\n",
      "80        Squirrel Hill North           1279            40.824038\n",
      "..                        ...            ...                  ...\n",
      "58              New Homestead              4             0.396068\n",
      "6           Beacon Street Lot              4             0.134368\n",
      "15          Bridge Ohio River              2             0.397248\n",
      "70           Reserve Township              1             0.006647\n",
      "94                Wilkinsburg              1             0.022960\n",
      "\n",
      "[96 rows x 3 columns]\n"
     ]
    }
   ],
   "source": [
    "summary_table = df.groupby('Neighborho').agg({\n",
    "    'LengthMile': ['count', 'sum']\n",
    "}).reset_index()\n",
    "\n",
    "# Rename columns for clarity\n",
    "summary_table.columns = ['Neighborhood', 'SidewalkCount', 'TotalSidewalkLength']\n",
    "\n",
    "# Sort the table by count of sidewalks in descending order\n",
    "summary_table = summary_table.sort_values(by='SidewalkCount', ascending=False)\n",
    "\n",
    "# Print the summary table\n",
    "print(summary_table)"
   ]
  },
  {
   "cell_type": "code",
   "execution_count": 62,
   "metadata": {},
   "outputs": [
    {
     "name": "stdout",
     "output_type": "stream",
     "text": [
      "           Neighborhood  SidewalkCount  TotalSidewalkLength\n",
      "81  Squirrel Hill South           1533            53.880230\n",
      "17            Brookline           1033            50.080313\n",
      "72            Shadyside           1304            42.669316\n",
      "19              Carrick            975            41.807489\n",
      "16     Brighton Heights            939            41.742417\n",
      "..                  ...            ...                  ...\n",
      "15    Bridge Ohio River              2             0.397248\n",
      "58        New Homestead              4             0.396068\n",
      "6     Beacon Street Lot              4             0.134368\n",
      "94          Wilkinsburg              1             0.022960\n",
      "70     Reserve Township              1             0.006647\n",
      "\n",
      "[96 rows x 3 columns]\n"
     ]
    }
   ],
   "source": [
    "summary_table = df.groupby('Neighborho').agg({\n",
    "    'LengthMile': ['count', 'sum']\n",
    "}).reset_index()\n",
    "\n",
    "# Rename columns for clarity\n",
    "summary_table.columns = ['Neighborhood', 'SidewalkCount', 'TotalSidewalkLength']\n",
    "\n",
    "# Sort the table by count of sidewalks in descending order\n",
    "summary_table = summary_table.sort_values(by='TotalSidewalkLength', ascending=False)\n",
    "\n",
    "# Print the summary table\n",
    "print(summary_table)"
   ]
  },
  {
   "cell_type": "code",
   "execution_count": null,
   "metadata": {},
   "outputs": [],
   "source": []
  },
  {
   "cell_type": "code",
   "execution_count": null,
   "metadata": {},
   "outputs": [],
   "source": []
  }
 ],
 "metadata": {
  "kernelspec": {
   "display_name": "Python 3",
   "language": "python",
   "name": "python3"
  },
  "language_info": {
   "codemirror_mode": {
    "name": "ipython",
    "version": 3
   },
   "file_extension": ".py",
   "mimetype": "text/x-python",
   "name": "python",
   "nbconvert_exporter": "python",
   "pygments_lexer": "ipython3",
   "version": "3.8.3"
  }
 },
 "nbformat": 4,
 "nbformat_minor": 4
}
